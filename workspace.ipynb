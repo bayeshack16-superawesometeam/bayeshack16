{
 "cells": [
  {
   "cell_type": "code",
   "execution_count": 242,
   "metadata": {
    "collapsed": true
   },
   "outputs": [],
   "source": [
    "%matplotlib inline"
   ]
  },
  {
   "cell_type": "code",
   "execution_count": 243,
   "metadata": {
    "collapsed": true
   },
   "outputs": [],
   "source": [
    "import pandas as pd"
   ]
  },
  {
   "cell_type": "code",
   "execution_count": 471,
   "metadata": {
    "collapsed": true
   },
   "outputs": [],
   "source": [
    "import matplotlib.pyplot as plt"
   ]
  },
  {
   "cell_type": "code",
   "execution_count": 472,
   "metadata": {
    "collapsed": false
   },
   "outputs": [],
   "source": [
    "# dfz = pd.read_csv('/Users/cchio/Downloads/zz_zip.csv')\n",
    "dfz = pd.read_csv('/Users/cchio/Desktop/zz_all_us_race.csv')\n",
    "dfc = pd.read_csv('/Users/cchio/Desktop/Consumer_Complaints.csv')"
   ]
  },
  {
   "cell_type": "code",
   "execution_count": 509,
   "metadata": {
    "collapsed": false
   },
   "outputs": [],
   "source": [
    "dfz.zipcode = dfz.zipcode.astype(str)\n",
    "dfc.zipcode = dfc.zipcode.astype(str)"
   ]
  },
  {
   "cell_type": "code",
   "execution_count": 510,
   "metadata": {
    "collapsed": false
   },
   "outputs": [
    {
     "name": "stdout",
     "output_type": "stream",
     "text": [
      "Index([u'zipcode', u'percentage_asian', u'percentage_black',\n",
      "       u'percentage_two_or_more', u'percentage_white', u'percentage_other',\n",
      "       u'Date received', u'Product', u'Sub-product', u'Issue', u'Sub-issue',\n",
      "       u'Consumer complaint narrative', u'Company public response', u'Company',\n",
      "       u'State', u'Tags', u'Consumer consent provided?', u'Submitted via',\n",
      "       u'Date sent to company', u'Company response to consumer',\n",
      "       u'Timely response?', u'Consumer disputed?', u'Complaint ID'],\n",
      "      dtype='object')\n"
     ]
    }
   ],
   "source": [
    "dfm = pd.merge(dfz, dfc, on='zipcode', how='inner')\n",
    "dfm.to_csv(\"/Users/cchio/Desktop/merged_output.csv\")\n",
    "print dfm.columns"
   ]
  },
  {
   "cell_type": "code",
   "execution_count": 511,
   "metadata": {
    "collapsed": false
   },
   "outputs": [],
   "source": [
    "# ally = dfm[dfm.Company == 'Ally Financial Inc.']\n",
    "# ally = ally[ally['Product'] == 'Consumer Loan']\n",
    "# dfm = ally\n",
    "\n",
    "# honda = dfm[dfm.Company == 'American Honda Finance Corporation']\n",
    "# dfm = honda\n",
    "\n",
    "# ocwen = dfm[dfm.Company == 'Ocwen']\n",
    "# dfm = ocwen\n",
    "\n",
    "# toyota = dfm[dfm.Company == 'Toyota Motor Credit Corporation']\n",
    "# dfm = toyota\n",
    "\n",
    "# good one\n",
    "# gm = dfm[dfm.Company == 'GM Financial']\n",
    "# dfm = gm\n",
    "\n",
    "# good one\n",
    "# ford = dfm[dfm.Company == 'Ford Motor Credit Company']\n",
    "# dfm = ford\n",
    "\n",
    "# wells = dfm[dfm.Company == 'Wells Fargo & Company']\n",
    "# dfm = wells\n",
    "\n",
    "# ezcorp = dfm[dfm.Company == 'EZCORP, Inc.']\n",
    "# dfm = ezcorp\n",
    "\n",
    "delbert = dfm[dfm.Company == 'Delbert Services']\n",
    "dfm = delbert\n",
    "\n",
    "# entire category\n",
    "# prod_mort = dfm[dfm.Product == 'Mortgage']\n",
    "# dfm = prod_mort\n",
    "\n",
    "# entire category\n",
    "# veh_loan = dfm[dfm.Subproduct == 'Vehicle loan']\n",
    "# dfm = veh_loan"
   ]
  },
  {
   "cell_type": "code",
   "execution_count": 512,
   "metadata": {
    "collapsed": false
   },
   "outputs": [
    {
     "data": {
      "text/plain": [
       "<matplotlib.axes._subplots.AxesSubplot at 0x16f33eb50>"
      ]
     },
     "execution_count": 512,
     "metadata": {},
     "output_type": "execute_result"
    },
    {
     "data": {
      "image/png": "[encoded data removed]",
      "text/plain": [
       "<matplotlib.figure.Figure at 0x1120fb750>"
      ]
     },
     "metadata": {},
     "output_type": "display_data"
    },
    {
     "data": {
      "image/png": "[encoded data removed]",
      "text/plain": [
       "<matplotlib.figure.Figure at 0x16f3b2350>"
      ]
     },
     "metadata": {},
     "output_type": "display_data"
    }
   ],
   "source": [
    "# dfm_dates = dfm['Date received'].to_frame()\n",
    "# dfm_dates.columns = ['date']\n",
    "# dfm_dates = pd.to_datetime(dfm_dates['date']).to_frame()\n",
    "# # dates_black = dates_black[dates_black.date.dt.year == 2015]\n",
    "# # black = dates_black.groupby([dates_black.date.dt.year, dates_black.date.dt.month, dates_black.date.dt.day]).count()\n",
    "# dfm_dates.groupby([dfm_dates.date.dt.year, dfm_dates.date.dt.month, dfm_dates.date.dt.day]).count().plot(kind='bar')\n",
    "\n",
    "black_top_quartile = dfm.percentage_black.quantile(q=0.75)\n",
    "dates_black = dfm[dfm.percentage_black > black_top_quartile]['Date received'].to_frame()\n",
    "dates_black.columns = ['date']\n",
    "dates_black = pd.to_datetime(dates_black['date']).to_frame()\n",
    "# dates_black = dates_black[dates_black.date.dt.year == 2015]\n",
    "# black = dates_black.groupby([dates_black.date.dt.year, dates_black.date.dt.month, dates_black.date.dt.day]).count()\n",
    "# dates_black.groupby([dates_black.date.dt.year, dates_black.date.dt.month, dates_black.date.dt.day]).count().plot()\n",
    "# dates_black.groupby([dates_black.date.dt.year, dates_black.date.dt.week]).count().plot()\n",
    "dates_black.groupby([dates_black.date.dt.year, dates_black.date.dt.month]).count().plot()\n",
    "\n",
    "dates = dfm['Date received'].to_frame()\n",
    "dates.columns = ['date']\n",
    "dates = pd.to_datetime(dates['date']).to_frame()\n",
    "# dates = dates[dates.date.dt.year == 2015]\n",
    "# all = dates.groupby([dates.date.dt.year, dates.date.dt.month, dates.date.dt.day]).count()\n",
    "# dates.groupby([dates.date.dt.year, dates.date.dt.month, dates.date.dt.day]).count().plot()\n",
    "# dates.groupby([dates.date.dt.year, dates.date.dt.month, dates.date.dt.week]).count().plot()\n",
    "dates.groupby([dates.date.dt.year, dates.date.dt.month]).count().plot()\n",
    "# kind='bar'"
   ]
  },
  {
   "cell_type": "code",
   "execution_count": 513,
   "metadata": {
    "collapsed": false
   },
   "outputs": [],
   "source": [
    "# black_payday_loan = dfm[dfm.Product == 'Payday loan']\n",
    "# black_payday_loan = black_payday_loan[black_payday_loan.percentage_black > black_top_quartile]\n",
    "# black = black_payday_loan\n",
    "# dates_black = black_payday_loan['Date received'].to_frame()\n",
    "# dates_black.columns = ['date']\n",
    "# dates_black = pd.to_datetime(dates_black['date']).to_frame()\n",
    "# black = dates_black.groupby([dates_black.date.dt.year, dates_black.date.dt.month, dates_black.date.dt.day]).count()\n",
    "\n",
    "# all_payday_loan = dfm[dfm.Product == 'Payday loan']\n",
    "# dates = all_payday_loan\n",
    "# dates = dates['Date received'].to_frame()\n",
    "# dates.columns = ['date']\n",
    "# dates = pd.to_datetime(dates['date']).to_frame()\n",
    "# all = dates.groupby([dates.date.dt.year, dates.date.dt.month, dates.date.dt.day]).count()"
   ]
  },
  {
   "cell_type": "code",
   "execution_count": 526,
   "metadata": {
    "collapsed": false
   },
   "outputs": [
    {
     "name": "stdout",
     "output_type": "stream",
     "text": [
      "date    0.036496\n",
      "dtype: float64\n"
     ]
    },
    {
     "data": {
      "image/png": "[encoded data removed]",
      "text/plain": [
       "<matplotlib.figure.Figure at 0x160b43950>"
      ]
     },
     "metadata": {},
     "output_type": "display_data"
    },
    {
     "data": {
      "image/png": "[encoded data removed]",
      "text/plain": [
       "<matplotlib.figure.Figure at 0x18fdc5f10>"
      ]
     },
     "metadata": {},
     "output_type": "display_data"
    }
   ],
   "source": [
    "black_all_count_ratio = black.divide(all, fill_value=0)\n",
    "# black_all_count_ratio.plot()\n",
    "\n",
    "black_week = dates_black.groupby([dates_black.date.dt.year, dates_black.date.dt.week]).count()\n",
    "all_week = dates.groupby([dates.date.dt.year, dates.date.dt.week]).count()\n",
    "black_all_week_count_ratio = black_week.divide(all_week, fill_value=0)\n",
    "black_all_week_count_ratio.plot()\n",
    "\n",
    "black_month = dates_black.groupby([dates_black.date.dt.year, dates_black.date.dt.month]).count()\n",
    "all_month = dates.groupby([dates.date.dt.year, dates.date.dt.month]).count()\n",
    "black_all_month_count_ratio = black_month.divide(all_month, fill_value=0)\n",
    "black_all_month_count_ratio.plot()\n",
    "\n",
    "print black_all_month_count_ratio.mean()\n",
    "# print black_all_month_count_ratio"
   ]
  },
  {
   "cell_type": "code",
   "execution_count": null,
   "metadata": {
    "collapsed": false
   },
   "outputs": [],
   "source": []
  },
  {
   "cell_type": "code",
   "execution_count": null,
   "metadata": {
    "collapsed": false
   },
   "outputs": [],
   "source": []
  },
  {
   "cell_type": "code",
   "execution_count": null,
   "metadata": {
    "collapsed": false
   },
   "outputs": [],
   "source": []
  },
  {
   "cell_type": "code",
   "execution_count": null,
   "metadata": {
    "collapsed": true
   },
   "outputs": [],
   "source": []
  }
 ],
 "metadata": {
  "kernelspec": {
   "display_name": "Python 2",
   "language": "python",
   "name": "python2"
  },
  "language_info": {
   "codemirror_mode": {
    "name": "ipython",
    "version": 2
   },
   "file_extension": ".py",
   "mimetype": "text/x-python",
   "name": "python",
   "nbconvert_exporter": "python",
   "pygments_lexer": "ipython2",
   "version": "2.7.11"
  }
 },
 "nbformat": 4,
 "nbformat_minor": 0
}
