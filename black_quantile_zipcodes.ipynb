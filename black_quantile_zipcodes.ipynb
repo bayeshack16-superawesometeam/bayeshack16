{
 "cells": [
  {
   "cell_type": "code",
   "execution_count": 3,
   "metadata": {
    "collapsed": true
   },
   "outputs": [],
   "source": [
    "%matplotlib inline"
   ]
  },
  {
   "cell_type": "code",
   "execution_count": 4,
   "metadata": {
    "collapsed": true
   },
   "outputs": [],
   "source": [
    "import pandas as pd\n",
    "import matplotlib.pyplot as plt"
   ]
  },
  {
   "cell_type": "code",
   "execution_count": 12,
   "metadata": {
    "collapsed": false
   },
   "outputs": [],
   "source": [
    "dfz = pd.read_csv('/Users/cchio/Desktop/zz_all_us_race.csv')\n",
    "dfc = pd.read_csv('/Users/cchio/Desktop/Consumer_Complaints.csv')\n",
    "dfz.zipcode = dfz.zipcode.astype(str)\n",
    "dfc.zipcode = dfc.zipcode.astype(str)"
   ]
  },
  {
   "cell_type": "code",
   "execution_count": 13,
   "metadata": {
    "collapsed": true
   },
   "outputs": [],
   "source": [
    "# merge dataframes\n",
    "dfm = pd.merge(dfz, dfc, on='zipcode', how='inner')\n",
    "dfm.to_csv(\"/Users/cchio/Desktop/merged_output.csv\")"
   ]
  },
  {
   "cell_type": "code",
   "execution_count": 36,
   "metadata": {
    "collapsed": false
   },
   "outputs": [
    {
     "name": "stdout",
     "output_type": "stream",
     "text": [
      "<type 'str'>\n"
     ]
    }
   ],
   "source": [
    "# get top quantile of percentage_black\n",
    "QUANTILE = 0.75\n",
    "quantile_val = dfm.percentage_black.quantile(q=QUANTILE)\n",
    "q = dfm[dfm.percentage_black > quantile_val]\n",
    "q.zipcode.unique()#.tofile('/Users/cchio/Desktop/top_quantile.txt')"
   ]
  },
  {
   "cell_type": "code",
   "execution_count": null,
   "metadata": {
    "collapsed": true
   },
   "outputs": [],
   "source": []
  }
 ],
 "metadata": {
  "kernelspec": {
   "display_name": "Python 2",
   "language": "python",
   "name": "python2"
  },
  "language_info": {
   "codemirror_mode": {
    "name": "ipython",
    "version": 2
   },
   "file_extension": ".py",
   "mimetype": "text/x-python",
   "name": "python",
   "nbconvert_exporter": "python",
   "pygments_lexer": "ipython2",
   "version": "2.7.11"
  }
 },
 "nbformat": 4,
 "nbformat_minor": 0
}
